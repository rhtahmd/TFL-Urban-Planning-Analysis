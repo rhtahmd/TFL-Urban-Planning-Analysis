{
 "cells": [
  {
   "cell_type": "code",
   "execution_count": 6,
   "metadata": {},
   "outputs": [],
   "source": [
    "import sqlite3\n",
    "import pandas as pd"
   ]
  },
  {
   "cell_type": "code",
   "execution_count": 7,
   "metadata": {},
   "outputs": [
    {
     "data": {
      "text/plain": [
       "758456"
      ]
     },
     "execution_count": 7,
     "metadata": {},
     "output_type": "execute_result"
    }
   ],
   "source": [
    "#  Load Data from CSV file into a pandas DataFrame\n",
    "df = pd.read_csv('C:\\\\TFL Urban Planning Project\\\\modified.csv')\n",
    "\n",
    "# Create a connection to the SQLite database\n",
    "conn = sqlite3.connect('modified.db')\n",
    "\n",
    "# Load the DataFrame into the SQLite database\n",
    "df.to_sql('modified', conn, if_exists='replace', index=False)\n"
   ]
  },
  {
   "cell_type": "code",
   "execution_count": 8,
   "metadata": {},
   "outputs": [
    {
     "name": "stdout",
     "output_type": "stream",
     "text": [
      "              StartStn  Count\n",
      "0        Oxford Circus  17561\n",
      "1             Victoria  16216\n",
      "2        London Bridge  15948\n",
      "3     Liverpool Street  15002\n",
      "4         Canary Wharf  11570\n",
      "..                 ...    ...\n",
      "404           Brockley     12\n",
      "405     Honor Oak Park     10\n",
      "406  Sudbury&Harrow Rd      9\n",
      "407         Bellingham      3\n",
      "408          Harringay      1\n",
      "\n",
      "[409 rows x 2 columns]\n"
     ]
    }
   ],
   "source": [
    "# Define the SQL query to find the busiest start stations \n",
    "query = '''\n",
    "SELECT StartStn, COUNT(*) as Count\n",
    "FROM modified\n",
    "GROUP BY StartStn\n",
    "ORDER BY Count DESC\n",
    "'''\n",
    "\n",
    "# Execute the SQL query using sqlite3\n",
    "result = conn.execute(query)\n",
    "\n",
    "# Fetch all rows from the result\n",
    "rows = result.fetchall()\n",
    "\n",
    "# Convert the result into a pandas DataFrame\n",
    "busiest_start_stations = pd.DataFrame(rows, columns=['StartStn', 'Count'])\n",
    "\n",
    "# Display the busiest start stations\n",
    "print(busiest_start_stations)\n",
    "\n",
    "# Execute the SQL query and load the result into a DataFrame\n",
    "df = pd.read_sql_query(query, conn)\n",
    "\n",
    "# Export the DataFrame to a Excel file\n",
    "busiest_start_stations.to_excel('busiest_start_stations.xlsx', index=False)\n"
   ]
  },
  {
   "cell_type": "code",
   "execution_count": 9,
   "metadata": {},
   "outputs": [
    {
     "name": "stdout",
     "output_type": "stream",
     "text": [
      "                StartStn  Count\n",
      "0          Oxford Circus  20973\n",
      "1               Victoria  17784\n",
      "2          London Bridge  15589\n",
      "3       Liverpool Street  14124\n",
      "4           Canary Wharf  11608\n",
      "..                   ...    ...\n",
      "402      South Greenford     11\n",
      "403  Sudbury Hill Harrow      8\n",
      "404             Brockley      7\n",
      "405    Sudbury&Harrow Rd      3\n",
      "406            New Cross      3\n",
      "\n",
      "[407 rows x 2 columns]\n"
     ]
    }
   ],
   "source": [
    "# Define the SQL query to find the busiest end stations \n",
    "query = '''\n",
    "SELECT EndStation, COUNT(*) as Count\n",
    "FROM modified\n",
    "GROUP BY EndStation\n",
    "ORDER BY Count DESC\n",
    "'''\n",
    "\n",
    "# Execute the SQL query using sqlite3\n",
    "result = conn.execute(query)\n",
    "\n",
    "# Fetch all rows from the result\n",
    "rows = result.fetchall()\n",
    "\n",
    "# Convert the result into a pandas DataFrame\n",
    "busiest_end_stations = pd.DataFrame(rows, columns=['StartStn', 'Count'])\n",
    "\n",
    "# Display the busiest start stations\n",
    "print(busiest_end_stations)\n",
    "\n",
    "# Execute the SQL query and load the result into a DataFrame\n",
    "df = pd.read_sql_query(query, conn)\n",
    "\n",
    "# Export the DataFrame to a Excel file\n",
    "busiest_end_stations.to_excel('busiest_end_stations.xlsx', index=False)\n",
    "\n",
    "\n"
   ]
  },
  {
   "cell_type": "code",
   "execution_count": 12,
   "metadata": {},
   "outputs": [
    {
     "name": "stdout",
     "output_type": "stream",
     "text": [
      "               Station  StationCount\n",
      "0        Oxford Circus         38534\n",
      "1             Victoria         34000\n",
      "2        London Bridge         31537\n",
      "3     Liverpool Street         29126\n",
      "4         Canary Wharf         23178\n",
      "..                 ...           ...\n",
      "407           Brockley            19\n",
      "408  Sudbury&Harrow Rd            12\n",
      "409          New Cross             3\n",
      "410         Bellingham             3\n",
      "411          Harringay             1\n",
      "\n",
      "[412 rows x 2 columns]\n"
     ]
    }
   ],
   "source": [
    "# Define the SQL query to find the busiest station overall\n",
    "query = '''\n",
    "SELECT Station, COUNT(*) as StationCount\n",
    "FROM (\n",
    "    SELECT StartStn AS Station\n",
    "    FROM modified\n",
    "    UNION ALL\n",
    "    SELECT EndStation AS Station\n",
    "    FROM modified\n",
    ")\n",
    "GROUP BY Station\n",
    "ORDER BY StationCount DESC\n",
    "'''\n",
    "\n",
    "# Execute the SQL query using sqlite3\n",
    "result = conn.execute(query)\n",
    "\n",
    "# Fetch all rows from the result\n",
    "rows = result.fetchall()\n",
    "\n",
    "# Convert the result into a pandas DataFrame\n",
    "busiest_station = pd.DataFrame(rows, columns=['Station', 'StationCount'])\n",
    "\n",
    "# Display the busiest station\n",
    "print(busiest_station)\n",
    "\n",
    "# Execute the SQL query and load the result into a DataFrame\n",
    "df = pd.read_sql_query(query, conn)\n",
    "\n",
    "# Export the DataFrame to a CSV file\n",
    "busiest_station.to_excel('busiest_station.xlsx', index=False)\n"
   ]
  },
  {
   "cell_type": "code",
   "execution_count": 13,
   "metadata": {},
   "outputs": [
    {
     "name": "stdout",
     "output_type": "stream",
     "text": [
      "  daytype  JourneyCount\n",
      "0     Mon        123329\n",
      "1     Tue        129145\n",
      "2     Wed        131927\n",
      "3     Thu        132670\n",
      "4     Fri        129972\n",
      "5     Sat         69764\n",
      "6     Sun         41649\n"
     ]
    }
   ],
   "source": [
    "# Execute a SQL query to count the number of underground journeys by day type\n",
    "query = '''\n",
    "SELECT daytype, COUNT(*) AS JourneyCount\n",
    "FROM modified\n",
    "GROUP BY daytype\n",
    "ORDER BY CASE DayType\n",
    "            WHEN 'Mon' THEN 1\n",
    "            WHEN 'Tue' THEN 2\n",
    "            WHEN 'Wed' THEN 3\n",
    "            WHEN 'Thu' THEN 4\n",
    "            WHEN 'Fri' THEN 5\n",
    "            WHEN 'Sat' THEN 6\n",
    "            WHEN 'Sun' THEN 7\n",
    "         END\n",
    "'''\n",
    "# Execute the query and fetch the results\n",
    "result = conn.execute(query).fetchall()\n",
    "\n",
    "# Convert the query result to a DataFrame\n",
    "journey_counts = pd.DataFrame(result, columns=['daytype', 'JourneyCount'])\n",
    "\n",
    "# Display the journey counts\n",
    "print(journey_counts)\n",
    "\n",
    "# Execute the SQL query and load the result into a DataFrame\n",
    "df = pd.read_sql_query(query, conn)\n",
    "\n",
    "# Export the DataFrame to a Excel file\n",
    "journey_counts.to_excel('journey_counts.xlsx', index=False)\n"
   ]
  },
  {
   "cell_type": "code",
   "execution_count": 14,
   "metadata": {},
   "outputs": [
    {
     "name": "stdout",
     "output_type": "stream",
     "text": [
      "                                FinalProduct  FinalProductCount\n",
      "0                                       PAYG             375433\n",
      "1                       LUL Travelcard-7 Day             160171\n",
      "2                     LUL Travelcard-1 Month             121145\n",
      "3                      LUL Travelcard-Annual              40609\n",
      "4                     Freedom Pass (Elderly)              39789\n",
      "5                    Freedom Pass (Disabled)               9348\n",
      "6                      LUL Travelcard-Period               4900\n",
      "7                 Staff Pass - Staff Nominee               2600\n",
      "8          Staff Pass - Bus Operator Nominee               1990\n",
      "9                  Staff Pass - Bus Operator               1217\n",
      "10                    LUL Travelcard->Annual                635\n",
      "11  Staff Pass - Staff Retired including LCB                420\n",
      "12                         Tfl Travel - Free                199\n"
     ]
    }
   ],
   "source": [
    "# Execute a SQL query to count the number of underground journeys by Final Product\n",
    "query = '''\n",
    "SELECT FinalProduct, COUNT(*) AS FinalProductCount\n",
    "FROM modified\n",
    "GROUP BY FinalProduct\n",
    "ORDER BY FinalProductCount  DESC\n",
    "\n",
    "'''\n",
    "# Execute the query and fetch the results\n",
    "result = conn.execute(query).fetchall()\n",
    "\n",
    "# Convert the query result to a DataFrame\n",
    "FinalProduct_Count = pd.DataFrame(result, columns=['FinalProduct', 'FinalProductCount'])\n",
    "\n",
    "# Display the journey counts\n",
    "print(FinalProduct_Count)\n",
    "\n",
    "# Execute the SQL query and load the result into a DataFrame\n",
    "df = pd.read_sql_query(query, conn)\n",
    "\n",
    "# Export the DataFrame to Excel file\n",
    "FinalProduct_Count.to_excel('FinalProduct_Count.xlsx', index=False)\n"
   ]
  },
  {
   "cell_type": "code",
   "execution_count": 15,
   "metadata": {},
   "outputs": [
    {
     "name": "stdout",
     "output_type": "stream",
     "text": [
      "    AvgJourneyDuration DurationSubsystem\n",
      "0            93.750000           DLR/LRC\n",
      "1            44.121673            NR/DLR\n",
      "2            41.617124        LUL/NR/DLR\n",
      "3            37.787994           LUL/DLR\n",
      "4            36.360982        LUL/NR/LRC\n",
      "5            35.892644            LUL/NR\n",
      "6            28.882880           LUL/LRC\n",
      "7            28.126625               LRC\n",
      "8            27.147374            NR/LRC\n",
      "9            27.092706                NR\n",
      "10           26.886297               LUL\n",
      "11           21.369003               DLR\n"
     ]
    }
   ],
   "source": [
    "# Execute a SQL query to count the number of average journey duration by subsystem\n",
    "query = '''\n",
    "SELECT AVG(JourneyDuration), SubSystem AS DurationSubsystem\n",
    "FROM modified\n",
    "GROUP BY SubSystem\n",
    "ORDER BY AVG(JourneyDuration)  DESC\n",
    "\n",
    "'''\n",
    "# Execute the query and fetch the results\n",
    "result = conn.execute(query).fetchall()\n",
    "\n",
    "# Convert the query result to a DataFrame\n",
    "DurationSubsystem_Count = pd.DataFrame(result, columns=['AvgJourneyDuration', 'DurationSubsystem'])\n",
    "\n",
    "# Display the journey counts\n",
    "print(DurationSubsystem_Count)\n",
    "\n",
    "# Execute the SQL query and load the result into a DataFrame\n",
    "df = pd.read_sql_query(query, conn)\n",
    "\n",
    "# Export the DataFrame to a Excel file\n",
    "DurationSubsystem_Count.to_excel('DurationSubsystem_Count.xlsx', index=False)\n",
    "\n"
   ]
  },
  {
   "cell_type": "code",
   "execution_count": 16,
   "metadata": {},
   "outputs": [
    {
     "name": "stdout",
     "output_type": "stream",
     "text": [
      "       Subsystem  JourneyDuration\n",
      "0             NR                1\n",
      "1             NR                1\n",
      "2             NR                1\n",
      "3             NR                1\n",
      "4            LUL                1\n",
      "...          ...              ...\n",
      "758451   LUL/LRC              149\n",
      "758452       LUL              151\n",
      "758453       LUL              158\n",
      "758454       LUL              161\n",
      "758455    LUL/NR              162\n",
      "\n",
      "[758456 rows x 2 columns]\n"
     ]
    }
   ],
   "source": [
    "# Execute a SQL query to SubSystem vs. JourneyDuration:\n",
    "query = '''\n",
    "SELECT SubSystem, JourneyDuration\n",
    "FROM modified\n",
    "\n",
    "\n",
    "'''\n",
    "# Execute the query and fetch the results\n",
    "result = conn.execute(query).fetchall()\n",
    "\n",
    "# Convert the query result to a DataFrame\n",
    "SubSystemvsJourneyDuration = pd.DataFrame(result, columns=['Subsystem', 'JourneyDuration'])\n",
    "\n",
    "# Display the journey counts\n",
    "print(SubSystemvsJourneyDuration)\n",
    "\n",
    "# Execute the SQL query and load the result into a DataFrame\n",
    "df = pd.read_sql_query(query, conn)\n",
    "\n",
    "# Export the DataFrame to a Excel file\n",
    "SubSystemvsJourneyDuration.to_excel('SubSystemvsJourneyDuration.xlsx', index=False)\n"
   ]
  }
 ],
 "metadata": {
  "kernelspec": {
   "display_name": "Python 3",
   "language": "python",
   "name": "python3"
  },
  "language_info": {
   "codemirror_mode": {
    "name": "ipython",
    "version": 3
   },
   "file_extension": ".py",
   "mimetype": "text/x-python",
   "name": "python",
   "nbconvert_exporter": "python",
   "pygments_lexer": "ipython3",
   "version": "3.11.3"
  },
  "orig_nbformat": 4
 },
 "nbformat": 4,
 "nbformat_minor": 2
}
